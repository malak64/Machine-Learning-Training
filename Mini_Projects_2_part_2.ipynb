{
  "nbformat": 4,
  "nbformat_minor": 0,
  "metadata": {
    "colab": {
      "name": "Mini_Projects_2/ part 2.ipynb",
      "provenance": [],
      "toc_visible": true,
      "include_colab_link": true
    },
    "kernelspec": {
      "name": "python3",
      "display_name": "Python 3"
    }
  },
  "cells": [
    {
      "cell_type": "markdown",
      "metadata": {
        "id": "view-in-github",
        "colab_type": "text"
      },
      "source": [
        "<a href=\"https://colab.research.google.com/github/malak64/Machine-Learning-Training/blob/main/Mini_Projects_2_part_2.ipynb\" target=\"_parent\"><img src=\"https://colab.research.google.com/assets/colab-badge.svg\" alt=\"Open In Colab\"/></a>"
      ]
    },
    {
      "cell_type": "markdown",
      "metadata": {
        "id": "c2sSEq3uSurn"
      },
      "source": [
        "# Files and Exceptions"
      ]
    },
    {
      "cell_type": "markdown",
      "metadata": {
        "id": "Gb1xspVev2Cj"
      },
      "source": [
        "# New Section"
      ]
    },
    {
      "cell_type": "code",
      "metadata": {
        "id": "VppOUgyU_Auv",
        "colab": {
          "base_uri": "https://localhost:8080/"
        },
        "outputId": "dbd2aa52-c3a5-44d8-c07c-062889b168f0"
      },
      "source": [
        "from google.colab import drive\n",
        "drive.mount('/content/drive')"
      ],
      "execution_count": 4,
      "outputs": [
        {
          "output_type": "stream",
          "text": [
            "Mounted at /content/drive\n"
          ],
          "name": "stdout"
        }
      ]
    },
    {
      "cell_type": "markdown",
      "metadata": {
        "id": "qw2XyRs-TWIF"
      },
      "source": [
        "**8. Sum of Numbers** <br>\n",
        "Assume that a file containing a series of integers is named numbers.txt and exists on the Drive. Write a program that reads all of the numbers stored in the file and calculates their total.\n",
        "\n",
        "Find file here: <br>\n",
        "https://drive.google.com/file/d/1GaOURA7jp0NLvfaOfl4cCClKK_pv3q0r/view?usp=sharing"
      ]
    },
    {
      "cell_type": "code",
      "metadata": {
        "id": "92EStR9KSu8N",
        "colab": {
          "base_uri": "https://localhost:8080/"
        },
        "outputId": "febce7ab-6301-4201-8ca8-e281aa98d946"
      },
      "source": [
        "def main():\n",
        "  num=open(\"/content/drive/MyDrive/machine learning/numbers.txt\",\"r\")\n",
        "  total=0\n",
        "  for x in num:\n",
        "    integers=int(x)\n",
        "    print (integers)\n",
        "    total+=integers\n",
        "  num.close()\n",
        "  print(\"total=\",total)\n",
        "main()"
      ],
      "execution_count": 8,
      "outputs": [
        {
          "output_type": "stream",
          "text": [
            "86850343\n",
            "88065952\n",
            "89381968\n",
            "89536251\n",
            "89714939\n",
            "89826424\n",
            "90124775\n",
            "90672109\n",
            "91408453\n",
            "92438737\n",
            "93361277\n",
            "93890243\n",
            "94372638\n",
            "94759578\n",
            "95079649\n",
            "95439651\n",
            "95611217\n",
            "95980818\n",
            "96336673\n",
            "96581524\n",
            "97041824\n",
            "97379048\n",
            "97672500\n",
            "98066518\n",
            "98479598\n",
            "98934553\n",
            "99246321\n",
            "99431136\n",
            "99835823\n",
            "100049946\n",
            "100234498\n",
            "100568960\n",
            "100806870\n",
            "101097750\n",
            "101820859\n",
            "102455417\n",
            "103013163\n",
            "103523365\n",
            "104177442\n",
            "104757015\n",
            "105145703\n",
            "105694237\n",
            "106140898\n",
            "107246430\n",
            "109272544\n",
            "111539027\n",
            "112522852\n",
            "113783213\n",
            "114620610\n",
            "116036567\n",
            "117421727\n",
            "119134533\n",
            "120378586\n",
            "121554027\n",
            "121817833\n",
            "122730767\n",
            "123673909\n",
            "124747226\n",
            "total= 5931486514\n"
          ],
          "name": "stdout"
        }
      ]
    },
    {
      "cell_type": "code",
      "metadata": {
        "id": "B7GImG_lSu-u"
      },
      "source": [
        ""
      ],
      "execution_count": null,
      "outputs": []
    },
    {
      "cell_type": "markdown",
      "metadata": {
        "id": "gW0mWcdDVgK4"
      },
      "source": [
        "**9. Average of Numbers** <br>\n",
        "Assume that a file containing a series of integers is named numbers.txt and exists on the Drive. Write a program that calculates the average of all the numbers stored in\n",
        "the file"
      ]
    },
    {
      "cell_type": "code",
      "metadata": {
        "id": "3-DZx-vnSvCe",
        "colab": {
          "base_uri": "https://localhost:8080/"
        },
        "outputId": "09ac6652-95ee-4f0a-c60c-25b5b1b3e590"
      },
      "source": [
        "def main():\n",
        "  num=open(\"/content/drive/MyDrive/machine learning/numbers.txt\",\"r\")\n",
        "  total=0\n",
        "  count=0\n",
        "  for x in num:\n",
        "    integers=int(x)\n",
        "    total+=integers\n",
        "    count+=1\n",
        "  num.close()\n",
        "  print(\"average=\",total/count)\n",
        "main()"
      ],
      "execution_count": 6,
      "outputs": [
        {
          "output_type": "stream",
          "text": [
            "average= 102267008.86206897\n"
          ],
          "name": "stdout"
        }
      ]
    },
    {
      "cell_type": "markdown",
      "metadata": {
        "id": "vjchCYETVwPx"
      },
      "source": [
        "**10. Random Number File Writer**<br>\n",
        "Write a program that writes a series of random numbers to a file. Each random number should be in the range of 1 \n",
        "through 500. The application should let the user specify how\n",
        "many random numbers the file will hold.\n"
      ]
    },
    {
      "cell_type": "code",
      "metadata": {
        "id": "DCyba_BZVxLF",
        "colab": {
          "base_uri": "https://localhost:8080/"
        },
        "outputId": "8675af16-6238-43c9-962a-8bdbc3e8b5aa"
      },
      "source": [
        "import random\n",
        "def main():\n",
        "  num=int(input(\"how many numbers \"))\n",
        "  numbers_file = open(\"numbers.txt\",\"w\")\n",
        "  for count in range (1,num+1):\n",
        "    numbers = random.randint(1,500)\n",
        "    numbers_file.write(str(numbers) + \"\\w\")\n",
        "  numbers_file.close()\n",
        "  print(\"data written to numbers_file\")\n",
        "main()"
      ],
      "execution_count": 12,
      "outputs": [
        {
          "output_type": "stream",
          "text": [
            "how many numbers 88\n",
            "data written to numbers_file\n"
          ],
          "name": "stdout"
        }
      ]
    },
    {
      "cell_type": "code",
      "metadata": {
        "id": "uZ7CQJM0VxN5"
      },
      "source": [
        ""
      ],
      "execution_count": null,
      "outputs": []
    },
    {
      "cell_type": "markdown",
      "metadata": {
        "id": "p75ZKqbXWMdY"
      },
      "source": [
        "**11.  Exception Handing** <br>\n",
        "Modify the program that you wrote for Exercise 9 so it handles the following exceptions: <br>\n",
        "* It should handle any IOError exceptions that are raised when the file is opened and data\n",
        "is read from it. <br>\n",
        "* It should handle any ValueError exceptions that are raised when the items that are read from the file are converted to a number."
      ]
    },
    {
      "cell_type": "code",
      "metadata": {
        "id": "22SOHQbrVxRE"
      },
      "source": [
        "def main():\n",
        "  total = 0.0\n",
        "\n",
        "  try: \n",
        "    num_file = open('/content/drive/MyDrive/Tutorial 2.pdf', 'r')\n",
        "\n",
        "    total = 0.0\n",
        "    count = 0\n",
        "    \n",
        "    for line in  num_file:\n",
        "        run_time = float(line)\n",
        "        #print(run_time)\n",
        "        total += run_time\n",
        "        count += 1\n",
        "\n",
        "    print(count)    \n",
        "    num_file.close()\n",
        "    print('Total',total/count)\n",
        "\n",
        "\n",
        "  except IOError:\n",
        "    print('An error occured trying to read the file.')\n",
        "\n",
        "  except ValueError:\n",
        "    print('Non-numeric data found in the file.')\n",
        "\n",
        "\n",
        "main()"
      ],
      "execution_count": null,
      "outputs": []
    },
    {
      "cell_type": "code",
      "metadata": {
        "id": "3p0MENR_WrBV",
        "colab": {
          "base_uri": "https://localhost:8080/"
        },
        "outputId": "51037019-4b2c-4b31-bcad-312e7e6764cc"
      },
      "source": [
        "def main():\n",
        " total=0\n",
        " \n",
        " try:\n",
        "    num=open(\"/content/drive/MyDrive/machine learning/numbers.txt\",\"r\")\n",
        "    total=0\n",
        "    count=0\n",
        "    for x in num:\n",
        "     integers=int(x)\n",
        "     total+=integers\n",
        "     count+=1\n",
        "    num.close()\n",
        "    print(\"average=\",total/count)\n",
        " except IOError:\n",
        "    print(\"an error occured trying to read the file\")\n",
        " except ValueError:\n",
        "    print(\"non-numeric data found in the file\")\n",
        "main()"
      ],
      "execution_count": 13,
      "outputs": [
        {
          "output_type": "stream",
          "text": [
            "average= 102267008.86206897\n"
          ],
          "name": "stdout"
        }
      ]
    }
  ]
}